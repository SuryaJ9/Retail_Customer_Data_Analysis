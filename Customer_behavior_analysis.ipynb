{
 "cells": [
  {
   "cell_type": "markdown",
   "id": "b53f715a-34f2-4395-8863-469cdc90d5d4",
   "metadata": {},
   "source": [
    "### Step 1: Analyst Mindset (Before Touching the Data)\n",
    "\n",
    "McKinsey analysts never start with data, they start with questions.\n",
    "\n",
    "Ask:\n",
    "\n",
    "What business problem are we solving?\n",
    "→ Example: “Why is customer churn increasing?” or “How to increase customer retention?”\n",
    "\n",
    "Who is the audience? (CXO, Product, Marketing, Finance?)\n",
    "→ This decides how deep or visual your analysis will be.\n",
    "\n",
    "What decisions will my insights drive?\n",
    "→ Example: New marketing campaign, better pricing, or loyalty program?"
   ]
  },
  {
   "cell_type": "code",
   "execution_count": 3,
   "id": "4a84c048-733d-4a70-9fc0-f2ec5b6c43e5",
   "metadata": {},
   "outputs": [
    {
     "data": {
      "text/html": [
       "<div>\n",
       "<style scoped>\n",
       "    .dataframe tbody tr th:only-of-type {\n",
       "        vertical-align: middle;\n",
       "    }\n",
       "\n",
       "    .dataframe tbody tr th {\n",
       "        vertical-align: top;\n",
       "    }\n",
       "\n",
       "    .dataframe thead th {\n",
       "        text-align: right;\n",
       "    }\n",
       "</style>\n",
       "<table border=\"1\" class=\"dataframe\">\n",
       "  <thead>\n",
       "    <tr style=\"text-align: right;\">\n",
       "      <th></th>\n",
       "      <th>Customer ID</th>\n",
       "      <th>Purchase Date</th>\n",
       "      <th>Product Category</th>\n",
       "      <th>Product Price</th>\n",
       "      <th>Quantity</th>\n",
       "      <th>Total Purchase Amount</th>\n",
       "      <th>Payment Method</th>\n",
       "      <th>Customer Age</th>\n",
       "      <th>Returns</th>\n",
       "      <th>Customer Name</th>\n",
       "      <th>Age</th>\n",
       "      <th>Gender</th>\n",
       "      <th>Churn</th>\n",
       "    </tr>\n",
       "  </thead>\n",
       "  <tbody>\n",
       "    <tr>\n",
       "      <th>0</th>\n",
       "      <td>46251</td>\n",
       "      <td>2020-09-08 09:38:32</td>\n",
       "      <td>Electronics</td>\n",
       "      <td>12</td>\n",
       "      <td>3</td>\n",
       "      <td>740</td>\n",
       "      <td>Credit Card</td>\n",
       "      <td>37</td>\n",
       "      <td>0.0</td>\n",
       "      <td>Christine Hernandez</td>\n",
       "      <td>37</td>\n",
       "      <td>Male</td>\n",
       "      <td>0</td>\n",
       "    </tr>\n",
       "    <tr>\n",
       "      <th>1</th>\n",
       "      <td>46251</td>\n",
       "      <td>2022-03-05 12:56:35</td>\n",
       "      <td>Home</td>\n",
       "      <td>468</td>\n",
       "      <td>4</td>\n",
       "      <td>2739</td>\n",
       "      <td>PayPal</td>\n",
       "      <td>37</td>\n",
       "      <td>0.0</td>\n",
       "      <td>Christine Hernandez</td>\n",
       "      <td>37</td>\n",
       "      <td>Male</td>\n",
       "      <td>0</td>\n",
       "    </tr>\n",
       "    <tr>\n",
       "      <th>2</th>\n",
       "      <td>46251</td>\n",
       "      <td>2022-05-23 18:18:01</td>\n",
       "      <td>Home</td>\n",
       "      <td>288</td>\n",
       "      <td>2</td>\n",
       "      <td>3196</td>\n",
       "      <td>PayPal</td>\n",
       "      <td>37</td>\n",
       "      <td>0.0</td>\n",
       "      <td>Christine Hernandez</td>\n",
       "      <td>37</td>\n",
       "      <td>Male</td>\n",
       "      <td>0</td>\n",
       "    </tr>\n",
       "    <tr>\n",
       "      <th>3</th>\n",
       "      <td>46251</td>\n",
       "      <td>2020-11-12 13:13:29</td>\n",
       "      <td>Clothing</td>\n",
       "      <td>196</td>\n",
       "      <td>1</td>\n",
       "      <td>3509</td>\n",
       "      <td>PayPal</td>\n",
       "      <td>37</td>\n",
       "      <td>0.0</td>\n",
       "      <td>Christine Hernandez</td>\n",
       "      <td>37</td>\n",
       "      <td>Male</td>\n",
       "      <td>0</td>\n",
       "    </tr>\n",
       "    <tr>\n",
       "      <th>4</th>\n",
       "      <td>13593</td>\n",
       "      <td>2020-11-27 17:55:11</td>\n",
       "      <td>Home</td>\n",
       "      <td>449</td>\n",
       "      <td>1</td>\n",
       "      <td>3452</td>\n",
       "      <td>Credit Card</td>\n",
       "      <td>49</td>\n",
       "      <td>0.0</td>\n",
       "      <td>James Grant</td>\n",
       "      <td>49</td>\n",
       "      <td>Female</td>\n",
       "      <td>1</td>\n",
       "    </tr>\n",
       "  </tbody>\n",
       "</table>\n",
       "</div>"
      ],
      "text/plain": [
       "   Customer ID        Purchase Date Product Category  Product Price  Quantity  \\\n",
       "0        46251  2020-09-08 09:38:32      Electronics             12         3   \n",
       "1        46251  2022-03-05 12:56:35             Home            468         4   \n",
       "2        46251  2022-05-23 18:18:01             Home            288         2   \n",
       "3        46251  2020-11-12 13:13:29         Clothing            196         1   \n",
       "4        13593  2020-11-27 17:55:11             Home            449         1   \n",
       "\n",
       "   Total Purchase Amount Payment Method  Customer Age  Returns  \\\n",
       "0                    740    Credit Card            37      0.0   \n",
       "1                   2739         PayPal            37      0.0   \n",
       "2                   3196         PayPal            37      0.0   \n",
       "3                   3509         PayPal            37      0.0   \n",
       "4                   3452    Credit Card            49      0.0   \n",
       "\n",
       "         Customer Name  Age  Gender  Churn  \n",
       "0  Christine Hernandez   37    Male      0  \n",
       "1  Christine Hernandez   37    Male      0  \n",
       "2  Christine Hernandez   37    Male      0  \n",
       "3  Christine Hernandez   37    Male      0  \n",
       "4          James Grant   49  Female      1  "
      ]
     },
     "execution_count": 3,
     "metadata": {},
     "output_type": "execute_result"
    }
   ],
   "source": [
    "import pandas as pd\n",
    "df = pd.read_csv(\"Customer_Data.csv\")\n",
    "df.head()"
   ]
  },
  {
   "cell_type": "code",
   "execution_count": 4,
   "id": "7c3dca5b-1daf-4028-ab13-4f2a7d041933",
   "metadata": {},
   "outputs": [
    {
     "data": {
      "text/plain": [
       "(250000, 13)"
      ]
     },
     "execution_count": 4,
     "metadata": {},
     "output_type": "execute_result"
    }
   ],
   "source": [
    "# Step 1: Understanding the dataset\n",
    "df.shape"
   ]
  },
  {
   "cell_type": "code",
   "execution_count": 5,
   "id": "ac8e2f6f-3b5d-4c23-9f22-d59cf603e1b8",
   "metadata": {},
   "outputs": [
    {
     "name": "stdout",
     "output_type": "stream",
     "text": [
      "<class 'pandas.core.frame.DataFrame'>\n",
      "RangeIndex: 250000 entries, 0 to 249999\n",
      "Data columns (total 13 columns):\n",
      " #   Column                 Non-Null Count   Dtype  \n",
      "---  ------                 --------------   -----  \n",
      " 0   Customer ID            250000 non-null  int64  \n",
      " 1   Purchase Date          250000 non-null  object \n",
      " 2   Product Category       250000 non-null  object \n",
      " 3   Product Price          250000 non-null  int64  \n",
      " 4   Quantity               250000 non-null  int64  \n",
      " 5   Total Purchase Amount  250000 non-null  int64  \n",
      " 6   Payment Method         250000 non-null  object \n",
      " 7   Customer Age           250000 non-null  int64  \n",
      " 8   Returns                202404 non-null  float64\n",
      " 9   Customer Name          250000 non-null  object \n",
      " 10  Age                    250000 non-null  int64  \n",
      " 11  Gender                 250000 non-null  object \n",
      " 12  Churn                  250000 non-null  int64  \n",
      "dtypes: float64(1), int64(7), object(5)\n",
      "memory usage: 24.8+ MB\n"
     ]
    }
   ],
   "source": [
    "# Find the datatypes\n",
    "df.info()"
   ]
  },
  {
   "cell_type": "code",
   "execution_count": 6,
   "id": "cfe46b4a-ca7e-4bb2-86aa-21285778d333",
   "metadata": {},
   "outputs": [
    {
     "data": {
      "text/html": [
       "<div>\n",
       "<style scoped>\n",
       "    .dataframe tbody tr th:only-of-type {\n",
       "        vertical-align: middle;\n",
       "    }\n",
       "\n",
       "    .dataframe tbody tr th {\n",
       "        vertical-align: top;\n",
       "    }\n",
       "\n",
       "    .dataframe thead th {\n",
       "        text-align: right;\n",
       "    }\n",
       "</style>\n",
       "<table border=\"1\" class=\"dataframe\">\n",
       "  <thead>\n",
       "    <tr style=\"text-align: right;\">\n",
       "      <th></th>\n",
       "      <th>Customer ID</th>\n",
       "      <th>Purchase Date</th>\n",
       "      <th>Product Category</th>\n",
       "      <th>Product Price</th>\n",
       "      <th>Quantity</th>\n",
       "      <th>Total Purchase Amount</th>\n",
       "      <th>Payment Method</th>\n",
       "      <th>Customer Age</th>\n",
       "      <th>Returns</th>\n",
       "      <th>Customer Name</th>\n",
       "      <th>Age</th>\n",
       "      <th>Gender</th>\n",
       "      <th>Churn</th>\n",
       "    </tr>\n",
       "  </thead>\n",
       "  <tbody>\n",
       "    <tr>\n",
       "      <th>48358</th>\n",
       "      <td>11461</td>\n",
       "      <td>2020-12-22 07:29:46</td>\n",
       "      <td>Electronics</td>\n",
       "      <td>349</td>\n",
       "      <td>2</td>\n",
       "      <td>1423</td>\n",
       "      <td>PayPal</td>\n",
       "      <td>44</td>\n",
       "      <td>NaN</td>\n",
       "      <td>Christina Gordon</td>\n",
       "      <td>44</td>\n",
       "      <td>Male</td>\n",
       "      <td>1</td>\n",
       "    </tr>\n",
       "    <tr>\n",
       "      <th>32248</th>\n",
       "      <td>20931</td>\n",
       "      <td>2022-10-22 22:33:38</td>\n",
       "      <td>Books</td>\n",
       "      <td>401</td>\n",
       "      <td>5</td>\n",
       "      <td>487</td>\n",
       "      <td>Credit Card</td>\n",
       "      <td>27</td>\n",
       "      <td>0.0</td>\n",
       "      <td>Valerie Jones</td>\n",
       "      <td>27</td>\n",
       "      <td>Female</td>\n",
       "      <td>0</td>\n",
       "    </tr>\n",
       "    <tr>\n",
       "      <th>42371</th>\n",
       "      <td>29101</td>\n",
       "      <td>2023-05-11 07:57:16</td>\n",
       "      <td>Home</td>\n",
       "      <td>56</td>\n",
       "      <td>5</td>\n",
       "      <td>4043</td>\n",
       "      <td>Credit Card</td>\n",
       "      <td>39</td>\n",
       "      <td>NaN</td>\n",
       "      <td>Matthew Baker</td>\n",
       "      <td>39</td>\n",
       "      <td>Female</td>\n",
       "      <td>0</td>\n",
       "    </tr>\n",
       "    <tr>\n",
       "      <th>33418</th>\n",
       "      <td>47470</td>\n",
       "      <td>2020-04-03 12:59:41</td>\n",
       "      <td>Clothing</td>\n",
       "      <td>80</td>\n",
       "      <td>1</td>\n",
       "      <td>4910</td>\n",
       "      <td>Credit Card</td>\n",
       "      <td>28</td>\n",
       "      <td>0.0</td>\n",
       "      <td>Bethany Webster</td>\n",
       "      <td>28</td>\n",
       "      <td>Male</td>\n",
       "      <td>0</td>\n",
       "    </tr>\n",
       "    <tr>\n",
       "      <th>161052</th>\n",
       "      <td>30242</td>\n",
       "      <td>2020-12-14 23:11:13</td>\n",
       "      <td>Electronics</td>\n",
       "      <td>306</td>\n",
       "      <td>5</td>\n",
       "      <td>3367</td>\n",
       "      <td>Credit Card</td>\n",
       "      <td>57</td>\n",
       "      <td>1.0</td>\n",
       "      <td>Amber Oconnor</td>\n",
       "      <td>57</td>\n",
       "      <td>Male</td>\n",
       "      <td>0</td>\n",
       "    </tr>\n",
       "  </tbody>\n",
       "</table>\n",
       "</div>"
      ],
      "text/plain": [
       "        Customer ID        Purchase Date Product Category  Product Price  \\\n",
       "48358         11461  2020-12-22 07:29:46      Electronics            349   \n",
       "32248         20931  2022-10-22 22:33:38            Books            401   \n",
       "42371         29101  2023-05-11 07:57:16             Home             56   \n",
       "33418         47470  2020-04-03 12:59:41         Clothing             80   \n",
       "161052        30242  2020-12-14 23:11:13      Electronics            306   \n",
       "\n",
       "        Quantity  Total Purchase Amount Payment Method  Customer Age  Returns  \\\n",
       "48358          2                   1423         PayPal            44      NaN   \n",
       "32248          5                    487    Credit Card            27      0.0   \n",
       "42371          5                   4043    Credit Card            39      NaN   \n",
       "33418          1                   4910    Credit Card            28      0.0   \n",
       "161052         5                   3367    Credit Card            57      1.0   \n",
       "\n",
       "           Customer Name  Age  Gender  Churn  \n",
       "48358   Christina Gordon   44    Male      1  \n",
       "32248      Valerie Jones   27  Female      0  \n",
       "42371      Matthew Baker   39  Female      0  \n",
       "33418    Bethany Webster   28    Male      0  \n",
       "161052     Amber Oconnor   57    Male      0  "
      ]
     },
     "execution_count": 6,
     "metadata": {},
     "output_type": "execute_result"
    }
   ],
   "source": [
    "df.sample(5) # sample 5 rows"
   ]
  },
  {
   "cell_type": "code",
   "execution_count": null,
   "id": "4f6275cd-2af3-48ff-927e-b67082e569c9",
   "metadata": {},
   "outputs": [],
   "source": []
  },
  {
   "cell_type": "markdown",
   "id": "0062b940-a11a-44a0-b222-f40c5bc9c4fb",
   "metadata": {},
   "source": [
    "###🧹 Step 2: Data Familiarization (What You Just Did ✅)\n",
    "\n",
    "You already ran .isnull().sum() — that’s data understanding.\n",
    "Now, interpret it like a pro:\n",
    "\n",
    "Column\tNulls\tMeaning / Action\n",
    "Returns\t47,596\tHuge missing values → investigate why\n",
    "Others\t0\tClean data, good to go\n",
    "\n",
    "Next Step: Find data types & unique values\n",
    "\n",
    "df.info()\n",
    "df.nunique()\n",
    "\n",
    "\n",
    "Helps you know: numeric vs categorical, continuous vs discrete."
   ]
  },
  {
   "cell_type": "code",
   "execution_count": 12,
   "id": "b8597b56-0ea6-4e11-b39b-ab5ba446d091",
   "metadata": {},
   "outputs": [
    {
     "data": {
      "text/plain": [
       "Customer ID              0\n",
       "Purchase Date            0\n",
       "Product Category         0\n",
       "Product Price            0\n",
       "Quantity                 0\n",
       "Total Purchase Amount    0\n",
       "Payment Method           0\n",
       "Customer Age             0\n",
       "Returns                  0\n",
       "Customer Name            0\n",
       "Age                      0\n",
       "Gender                   0\n",
       "Churn                    0\n",
       "dtype: int64"
      ]
     },
     "execution_count": 12,
     "metadata": {},
     "output_type": "execute_result"
    }
   ],
   "source": [
    "df.isnull().sum()"
   ]
  },
  {
   "cell_type": "code",
   "execution_count": 9,
   "id": "5e1f7f32-aba2-4890-9a08-299a35330d85",
   "metadata": {},
   "outputs": [
    {
     "name": "stderr",
     "output_type": "stream",
     "text": [
      "C:\\Users\\Jayasurya R N\\AppData\\Local\\Temp\\ipykernel_12244\\1484634924.py:2: FutureWarning: A value is trying to be set on a copy of a DataFrame or Series through chained assignment using an inplace method.\n",
      "The behavior will change in pandas 3.0. This inplace method will never work because the intermediate object on which we are setting values always behaves as a copy.\n",
      "\n",
      "For example, when doing 'df[col].method(value, inplace=True)', try using 'df.method({col: value}, inplace=True)' or df[col] = df[col].method(value) instead, to perform the operation inplace on the original object.\n",
      "\n",
      "\n",
      "  df['Returns'].fillna('Unknown',inplace=True)\n",
      "C:\\Users\\Jayasurya R N\\AppData\\Local\\Temp\\ipykernel_12244\\1484634924.py:2: FutureWarning: Setting an item of incompatible dtype is deprecated and will raise an error in a future version of pandas. Value 'Unknown' has dtype incompatible with float64, please explicitly cast to a compatible dtype first.\n",
      "  df['Returns'].fillna('Unknown',inplace=True)\n"
     ]
    },
    {
     "data": {
      "text/html": [
       "<div>\n",
       "<style scoped>\n",
       "    .dataframe tbody tr th:only-of-type {\n",
       "        vertical-align: middle;\n",
       "    }\n",
       "\n",
       "    .dataframe tbody tr th {\n",
       "        vertical-align: top;\n",
       "    }\n",
       "\n",
       "    .dataframe thead th {\n",
       "        text-align: right;\n",
       "    }\n",
       "</style>\n",
       "<table border=\"1\" class=\"dataframe\">\n",
       "  <thead>\n",
       "    <tr style=\"text-align: right;\">\n",
       "      <th></th>\n",
       "      <th>Customer ID</th>\n",
       "      <th>Purchase Date</th>\n",
       "      <th>Product Category</th>\n",
       "      <th>Product Price</th>\n",
       "      <th>Quantity</th>\n",
       "      <th>Total Purchase Amount</th>\n",
       "      <th>Payment Method</th>\n",
       "      <th>Customer Age</th>\n",
       "      <th>Returns</th>\n",
       "      <th>Customer Name</th>\n",
       "      <th>Age</th>\n",
       "      <th>Gender</th>\n",
       "      <th>Churn</th>\n",
       "    </tr>\n",
       "  </thead>\n",
       "  <tbody>\n",
       "    <tr>\n",
       "      <th>0</th>\n",
       "      <td>46251</td>\n",
       "      <td>2020-09-08 09:38:32</td>\n",
       "      <td>Electronics</td>\n",
       "      <td>12</td>\n",
       "      <td>3</td>\n",
       "      <td>740</td>\n",
       "      <td>Credit Card</td>\n",
       "      <td>37</td>\n",
       "      <td>0.0</td>\n",
       "      <td>Christine Hernandez</td>\n",
       "      <td>37</td>\n",
       "      <td>Male</td>\n",
       "      <td>0</td>\n",
       "    </tr>\n",
       "    <tr>\n",
       "      <th>1</th>\n",
       "      <td>46251</td>\n",
       "      <td>2022-03-05 12:56:35</td>\n",
       "      <td>Home</td>\n",
       "      <td>468</td>\n",
       "      <td>4</td>\n",
       "      <td>2739</td>\n",
       "      <td>PayPal</td>\n",
       "      <td>37</td>\n",
       "      <td>0.0</td>\n",
       "      <td>Christine Hernandez</td>\n",
       "      <td>37</td>\n",
       "      <td>Male</td>\n",
       "      <td>0</td>\n",
       "    </tr>\n",
       "    <tr>\n",
       "      <th>2</th>\n",
       "      <td>46251</td>\n",
       "      <td>2022-05-23 18:18:01</td>\n",
       "      <td>Home</td>\n",
       "      <td>288</td>\n",
       "      <td>2</td>\n",
       "      <td>3196</td>\n",
       "      <td>PayPal</td>\n",
       "      <td>37</td>\n",
       "      <td>0.0</td>\n",
       "      <td>Christine Hernandez</td>\n",
       "      <td>37</td>\n",
       "      <td>Male</td>\n",
       "      <td>0</td>\n",
       "    </tr>\n",
       "    <tr>\n",
       "      <th>3</th>\n",
       "      <td>46251</td>\n",
       "      <td>2020-11-12 13:13:29</td>\n",
       "      <td>Clothing</td>\n",
       "      <td>196</td>\n",
       "      <td>1</td>\n",
       "      <td>3509</td>\n",
       "      <td>PayPal</td>\n",
       "      <td>37</td>\n",
       "      <td>0.0</td>\n",
       "      <td>Christine Hernandez</td>\n",
       "      <td>37</td>\n",
       "      <td>Male</td>\n",
       "      <td>0</td>\n",
       "    </tr>\n",
       "    <tr>\n",
       "      <th>4</th>\n",
       "      <td>13593</td>\n",
       "      <td>2020-11-27 17:55:11</td>\n",
       "      <td>Home</td>\n",
       "      <td>449</td>\n",
       "      <td>1</td>\n",
       "      <td>3452</td>\n",
       "      <td>Credit Card</td>\n",
       "      <td>49</td>\n",
       "      <td>0.0</td>\n",
       "      <td>James Grant</td>\n",
       "      <td>49</td>\n",
       "      <td>Female</td>\n",
       "      <td>1</td>\n",
       "    </tr>\n",
       "  </tbody>\n",
       "</table>\n",
       "</div>"
      ],
      "text/plain": [
       "   Customer ID        Purchase Date Product Category  Product Price  Quantity  \\\n",
       "0        46251  2020-09-08 09:38:32      Electronics             12         3   \n",
       "1        46251  2022-03-05 12:56:35             Home            468         4   \n",
       "2        46251  2022-05-23 18:18:01             Home            288         2   \n",
       "3        46251  2020-11-12 13:13:29         Clothing            196         1   \n",
       "4        13593  2020-11-27 17:55:11             Home            449         1   \n",
       "\n",
       "   Total Purchase Amount Payment Method  Customer Age Returns  \\\n",
       "0                    740    Credit Card            37     0.0   \n",
       "1                   2739         PayPal            37     0.0   \n",
       "2                   3196         PayPal            37     0.0   \n",
       "3                   3509         PayPal            37     0.0   \n",
       "4                   3452    Credit Card            49     0.0   \n",
       "\n",
       "         Customer Name  Age  Gender  Churn  \n",
       "0  Christine Hernandez   37    Male      0  \n",
       "1  Christine Hernandez   37    Male      0  \n",
       "2  Christine Hernandez   37    Male      0  \n",
       "3  Christine Hernandez   37    Male      0  \n",
       "4          James Grant   49  Female      1  "
      ]
     },
     "execution_count": 9,
     "metadata": {},
     "output_type": "execute_result"
    }
   ],
   "source": [
    "# we have the Returns column null let's fill this with 'Unknown'\n",
    "df['Returns'].fillna('Unknown',inplace=True)\n",
    "df.head()"
   ]
  },
  {
   "cell_type": "code",
   "execution_count": 13,
   "id": "240fdbc0-5423-42e4-bd8a-7dccd328841e",
   "metadata": {},
   "outputs": [
    {
     "data": {
      "text/plain": [
       "Customer ID               49673\n",
       "Purchase Date            249736\n",
       "Product Category              4\n",
       "Product Price               491\n",
       "Quantity                      5\n",
       "Total Purchase Amount      5247\n",
       "Payment Method                4\n",
       "Customer Age                 53\n",
       "Returns                       3\n",
       "Customer Name             39920\n",
       "Age                          53\n",
       "Gender                        2\n",
       "Churn                         2\n",
       "dtype: int64"
      ]
     },
     "execution_count": 13,
     "metadata": {},
     "output_type": "execute_result"
    }
   ],
   "source": [
    "# Find the unique values\n",
    "df.nunique()"
   ]
  },
  {
   "cell_type": "markdown",
   "id": "6192c409-b620-4600-b145-54674fdf7c93",
   "metadata": {},
   "source": [
    "\n",
    "## 🎯 Step 1: Understand What “Unique Values” Tell You\n",
    "\n",
    "👉 `df.nunique()` helps you understand **data variety**:\n",
    "\n",
    "* **Low unique values** → categorical features (like Gender, Payment Method)\n",
    "* **High unique values** → identifier or numeric/continuous features (like Customer ID, Price, Age)\n",
    "\n",
    "Let’s decode your results 👇\n",
    "\n",
    "---\n",
    "\n",
    "## 🧩 Step 2: Interpret Each Column Like a Pro Analyst\n",
    "\n",
    "| Column                           | Unique Count                | What It Means                           | Analyst Interpretation                                                                                                                                |\n",
    "| -------------------------------- | --------------------------- | --------------------------------------- | ----------------------------------------------------------------------------------------------------------------------------------------------------- |\n",
    "| **Customer ID (49,673)**         | Almost unique per row       | Each represents a unique customer.      | ✅ Likely a *unique identifier*. You’ll use it for **customer-level analysis** (like retention, churn).                                                |\n",
    "| **Purchase Date (249,736)**      | Very high                   | Many unique dates/timestamps            | 🕓 Indicates **daily or transactional** data — maybe multiple purchases per day. You can extract **month, year, weekday** from it for trend analysis. |\n",
    "| **Product Category (4)**         | Very low                    | 4 unique categories                     | 🎁 Categorical feature — you can group and analyze revenue or churn **by category**.                                                                  |\n",
    "| **Product Price (491)**          | Moderate                    | 491 different prices                    | 💰 Continuous variable — useful for price range and spending pattern analysis.                                                                        |\n",
    "| **Quantity (5)**                 | Low                         | 1 to 5 quantities per order             | 🔢 Discrete numeric variable — can analyze **average items per purchase**.                                                                            |\n",
    "| **Total Purchase Amount (5247)** | Moderate                    | Many possible totals                    | 💸 Continuous — depends on price × quantity; used for **revenue analysis**.                                                                           |\n",
    "| **Payment Method (4)**           | Low                         | 4 types (e.g., Credit, Debit, UPI, COD) | 💳 You can find which **payment method** customers prefer and if it affects churn.                                                                    |\n",
    "| **Customer Age (53)**            | Medium                      | Age groups from maybe 18–70             | 👶👴 Helps find **high-value age segments**. You can bin into groups (e.g., 18–25, 26–35…).                                                           |\n",
    "| **Returns (3)**                  | Very low                    | 3 categories (Yes/No/Null)              | 🔁 Indicates whether the product was returned — valuable for **quality or satisfaction analysis**.                                                    |\n",
    "| **Customer Name (39,920)**       | High                        | Unique per customer                     | 🧍 Redundant since we already have `Customer ID`. You can safely **drop this column** later.                                                          |\n",
    "| **Age (53)**                     | Duplicate of `Customer Age` | Same count                              | 🧩 Possibly redundant column — check if values match.                                                                                                 |\n",
    "| **Gender (2)**                   | Very low                    | 2 categories (Male/Female)              | ⚖️ Use to analyze **gender-wise purchasing behavior**.                                                                                                |\n",
    "| **Churn (2)**                    | Very low                    | Yes/No                                  | 🚪 Super important target variable — use it to analyze **who is leaving** and **why**.                                                                |\n",
    "\n",
    "---\n",
    "\n",
    "## 🔍 Step 3: Identify Feature Types\n",
    "\n",
    "| Feature Type               | Columns                                                            | Description                                    |\n",
    "| -------------------------- | ------------------------------------------------------------------ | ---------------------------------------------- |\n",
    "| **Identifiers**            | `Customer ID`, `Customer Name`                                     | Unique to each record — not used for analysis. |\n",
    "| **Categorical**            | `Gender`, `Payment Method`, `Product Category`, `Returns`, `Churn` | Use for grouping or segmentation.              |\n",
    "| **Numerical (Continuous)** | `Product Price`, `Total Purchase Amount`, `Customer Age`, `Age`    | Use for averages, correlations, and trends.    |\n",
    "| **Numerical (Discrete)**   | `Quantity`                                                         | Small fixed number range.                      |\n",
    "| **Date/Time**              | `Purchase Date`                                                    | Use for time-series trends.                    |\n",
    "\n",
    "---\n",
    "\n",
    "## 📈 Step 4: What Insights You Can Derive\n",
    "\n",
    "Now that you understand the structure, you can start planning **insight paths** like this:\n",
    "\n",
    "| Analysis Type        | Question                                              | Why It’s Valuable                     |\n",
    "| -------------------- | ----------------------------------------------------- | ------------------------------------- |\n",
    "| **Demographic**      | Which age or gender spends the most?                  | Target marketing campaigns.           |\n",
    "| **Product**          | Which categories drive the most revenue or returns?   | Improve inventory decisions.          |\n",
    "| **Payment Behavior** | Which payment method is preferred by loyal customers? | Optimize payment UX and partnerships. |\n",
    "| **Churn Analysis**   | What kind of customers churn the most?                | Retain high-value customers.          |\n",
    "| **Trend Analysis**   | How do purchases vary over months?                    | Forecast demand and seasonality.      |\n",
    "\n",
    "---\n",
    "\n",
    "## 🧠 Step 5: Pro Analyst Next Steps\n",
    "\n",
    "Here’s what you should do next (just like a McKinsey associate):\n",
    "\n",
    "1. **Check column datatypes:**\n",
    "\n",
    "   ```python\n",
    "   df.info()\n",
    "   ```\n",
    "2. **Convert date column:**\n",
    "\n",
    "   ```python\n",
    "   df['Purchase Date'] = pd.to_datetime(df['Purchase Date'])\n",
    "   ```\n",
    "3. **Create derived columns:**\n",
    "\n",
    "   ```python\n",
    "   df['Month'] = df['Purchase Date'].dt.month\n",
    "   df['Year'] = df['Purchase Date'].dt.year\n",
    "   df['Weekday'] = df['Purchase Date'].dt.day_name()\n",
    "   ```\n",
    "4. **Check duplicates:**\n",
    "\n",
    "   ```python\n",
    "   df.duplicated().sum()\n",
    "   ```\n",
    "5. **Handle redundant columns (`Customer Name`, `Age`)**\n",
    "\n",
    "   ```python\n",
    "   df.drop(['Customer Name', 'Age'], axis=1, inplace=True)\n",
    "   ```\n"
   ]
  },
  {
   "cell_type": "code",
   "execution_count": 15,
   "id": "42a67c4b-619b-4d0a-a9f1-f050afc6284a",
   "metadata": {},
   "outputs": [
    {
     "name": "stdout",
     "output_type": "stream",
     "text": [
      "<class 'pandas.core.frame.DataFrame'>\n",
      "RangeIndex: 250000 entries, 0 to 249999\n",
      "Data columns (total 13 columns):\n",
      " #   Column                 Non-Null Count   Dtype \n",
      "---  ------                 --------------   ----- \n",
      " 0   Customer ID            250000 non-null  int64 \n",
      " 1   Purchase Date          250000 non-null  object\n",
      " 2   Product Category       250000 non-null  object\n",
      " 3   Product Price          250000 non-null  int64 \n",
      " 4   Quantity               250000 non-null  int64 \n",
      " 5   Total Purchase Amount  250000 non-null  int64 \n",
      " 6   Payment Method         250000 non-null  object\n",
      " 7   Customer Age           250000 non-null  int64 \n",
      " 8   Returns                250000 non-null  object\n",
      " 9   Customer Name          250000 non-null  object\n",
      " 10  Age                    250000 non-null  int64 \n",
      " 11  Gender                 250000 non-null  object\n",
      " 12  Churn                  250000 non-null  int64 \n",
      "dtypes: int64(7), object(6)\n",
      "memory usage: 24.8+ MB\n"
     ]
    }
   ],
   "source": [
    "#Checking column datatypes\n",
    "df.info()"
   ]
  },
  {
   "cell_type": "code",
   "execution_count": 23,
   "id": "2e53a04f-8211-47e0-88a4-1b7e26bbcda3",
   "metadata": {},
   "outputs": [],
   "source": [
    "# Converting the snake case to better analysis.\n",
    "df.columns = df.columns.str.strip().str.lower().str.replace(' ','_')\n",
    "# Purchase Date is in Object format, let's convert it into date format\n"
   ]
  },
  {
   "cell_type": "code",
   "execution_count": 27,
   "id": "d62d4e85-aa51-4cd7-a25f-0e7133631b51",
   "metadata": {},
   "outputs": [],
   "source": [
    "# Create derived columns\n",
    "df['month'] = df['purchase_date'].dt.month\n",
    "df['year'] = df['purchase_date'].dt.year\n",
    "df['weekday'] = df['purchase_date'].dt.day_name()"
   ]
  },
  {
   "cell_type": "code",
   "execution_count": 28,
   "id": "96deb5ab-e23d-4f52-a297-03c106a8eff4",
   "metadata": {},
   "outputs": [
    {
     "data": {
      "text/html": [
       "<div>\n",
       "<style scoped>\n",
       "    .dataframe tbody tr th:only-of-type {\n",
       "        vertical-align: middle;\n",
       "    }\n",
       "\n",
       "    .dataframe tbody tr th {\n",
       "        vertical-align: top;\n",
       "    }\n",
       "\n",
       "    .dataframe thead th {\n",
       "        text-align: right;\n",
       "    }\n",
       "</style>\n",
       "<table border=\"1\" class=\"dataframe\">\n",
       "  <thead>\n",
       "    <tr style=\"text-align: right;\">\n",
       "      <th></th>\n",
       "      <th>customer_id</th>\n",
       "      <th>purchase_date</th>\n",
       "      <th>product_category</th>\n",
       "      <th>product_price</th>\n",
       "      <th>quantity</th>\n",
       "      <th>total_purchase_amount</th>\n",
       "      <th>payment_method</th>\n",
       "      <th>customer_age</th>\n",
       "      <th>returns</th>\n",
       "      <th>customer_name</th>\n",
       "      <th>age</th>\n",
       "      <th>gender</th>\n",
       "      <th>churn</th>\n",
       "      <th>month</th>\n",
       "      <th>year</th>\n",
       "      <th>weekday</th>\n",
       "    </tr>\n",
       "  </thead>\n",
       "  <tbody>\n",
       "    <tr>\n",
       "      <th>0</th>\n",
       "      <td>46251</td>\n",
       "      <td>2020-09-08 09:38:32</td>\n",
       "      <td>Electronics</td>\n",
       "      <td>12</td>\n",
       "      <td>3</td>\n",
       "      <td>740</td>\n",
       "      <td>Credit Card</td>\n",
       "      <td>37</td>\n",
       "      <td>0.0</td>\n",
       "      <td>Christine Hernandez</td>\n",
       "      <td>37</td>\n",
       "      <td>Male</td>\n",
       "      <td>0</td>\n",
       "      <td>9</td>\n",
       "      <td>2020</td>\n",
       "      <td>Tuesday</td>\n",
       "    </tr>\n",
       "    <tr>\n",
       "      <th>1</th>\n",
       "      <td>46251</td>\n",
       "      <td>2022-03-05 12:56:35</td>\n",
       "      <td>Home</td>\n",
       "      <td>468</td>\n",
       "      <td>4</td>\n",
       "      <td>2739</td>\n",
       "      <td>PayPal</td>\n",
       "      <td>37</td>\n",
       "      <td>0.0</td>\n",
       "      <td>Christine Hernandez</td>\n",
       "      <td>37</td>\n",
       "      <td>Male</td>\n",
       "      <td>0</td>\n",
       "      <td>3</td>\n",
       "      <td>2022</td>\n",
       "      <td>Saturday</td>\n",
       "    </tr>\n",
       "    <tr>\n",
       "      <th>2</th>\n",
       "      <td>46251</td>\n",
       "      <td>2022-05-23 18:18:01</td>\n",
       "      <td>Home</td>\n",
       "      <td>288</td>\n",
       "      <td>2</td>\n",
       "      <td>3196</td>\n",
       "      <td>PayPal</td>\n",
       "      <td>37</td>\n",
       "      <td>0.0</td>\n",
       "      <td>Christine Hernandez</td>\n",
       "      <td>37</td>\n",
       "      <td>Male</td>\n",
       "      <td>0</td>\n",
       "      <td>5</td>\n",
       "      <td>2022</td>\n",
       "      <td>Monday</td>\n",
       "    </tr>\n",
       "    <tr>\n",
       "      <th>3</th>\n",
       "      <td>46251</td>\n",
       "      <td>2020-11-12 13:13:29</td>\n",
       "      <td>Clothing</td>\n",
       "      <td>196</td>\n",
       "      <td>1</td>\n",
       "      <td>3509</td>\n",
       "      <td>PayPal</td>\n",
       "      <td>37</td>\n",
       "      <td>0.0</td>\n",
       "      <td>Christine Hernandez</td>\n",
       "      <td>37</td>\n",
       "      <td>Male</td>\n",
       "      <td>0</td>\n",
       "      <td>11</td>\n",
       "      <td>2020</td>\n",
       "      <td>Thursday</td>\n",
       "    </tr>\n",
       "    <tr>\n",
       "      <th>4</th>\n",
       "      <td>13593</td>\n",
       "      <td>2020-11-27 17:55:11</td>\n",
       "      <td>Home</td>\n",
       "      <td>449</td>\n",
       "      <td>1</td>\n",
       "      <td>3452</td>\n",
       "      <td>Credit Card</td>\n",
       "      <td>49</td>\n",
       "      <td>0.0</td>\n",
       "      <td>James Grant</td>\n",
       "      <td>49</td>\n",
       "      <td>Female</td>\n",
       "      <td>1</td>\n",
       "      <td>11</td>\n",
       "      <td>2020</td>\n",
       "      <td>Friday</td>\n",
       "    </tr>\n",
       "  </tbody>\n",
       "</table>\n",
       "</div>"
      ],
      "text/plain": [
       "   customer_id       purchase_date product_category  product_price  quantity  \\\n",
       "0        46251 2020-09-08 09:38:32      Electronics             12         3   \n",
       "1        46251 2022-03-05 12:56:35             Home            468         4   \n",
       "2        46251 2022-05-23 18:18:01             Home            288         2   \n",
       "3        46251 2020-11-12 13:13:29         Clothing            196         1   \n",
       "4        13593 2020-11-27 17:55:11             Home            449         1   \n",
       "\n",
       "   total_purchase_amount payment_method  customer_age returns  \\\n",
       "0                    740    Credit Card            37     0.0   \n",
       "1                   2739         PayPal            37     0.0   \n",
       "2                   3196         PayPal            37     0.0   \n",
       "3                   3509         PayPal            37     0.0   \n",
       "4                   3452    Credit Card            49     0.0   \n",
       "\n",
       "         customer_name  age  gender  churn  month  year   weekday  \n",
       "0  Christine Hernandez   37    Male      0      9  2020   Tuesday  \n",
       "1  Christine Hernandez   37    Male      0      3  2022  Saturday  \n",
       "2  Christine Hernandez   37    Male      0      5  2022    Monday  \n",
       "3  Christine Hernandez   37    Male      0     11  2020  Thursday  \n",
       "4          James Grant   49  Female      1     11  2020    Friday  "
      ]
     },
     "execution_count": 28,
     "metadata": {},
     "output_type": "execute_result"
    }
   ],
   "source": [
    "df.head()"
   ]
  },
  {
   "cell_type": "code",
   "execution_count": 29,
   "id": "0b604fe8-93f5-47e0-a010-798ff82f4485",
   "metadata": {},
   "outputs": [],
   "source": [
    "# Handling the redundant columns(customername, Age)\n",
    "df.drop(['customer_name','age'],axis=1,inplace=True)"
   ]
  },
  {
   "cell_type": "markdown",
   "id": "18a13fd8-e591-4d7d-9876-d15675a5cd90",
   "metadata": {},
   "source": [
    "\n",
    "## 🧩 What Does “Redundant Column” Mean?\n",
    "\n",
    "> A **redundant column** means a column that **repeats information already available elsewhere** in the dataset — so it **adds no new value** to your analysis.\n",
    "\n",
    "It’s like having **duplicate data under a different name**.\n",
    "\n",
    "---\n",
    "\n",
    "### 🧠 Simple Example:\n",
    "\n",
    "| Customer ID | Customer Name | Age | Customer Age |\n",
    "| ----------- | ------------- | --- | ------------ |\n",
    "| 101         | John          | 28  | 28           |\n",
    "| 102         | Priya         | 33  | 33           |\n",
    "\n",
    "Here:\n",
    "\n",
    "* Both **`Age`** and **`Customer Age`** represent the **same information**.\n",
    "* So one of them (say `Age`) is **redundant** — you can safely drop it.\n",
    "\n",
    "---\n",
    "\n",
    "### 🧮 Another Example:\n",
    "\n",
    "| Total Purchase Amount | Product Price | Quantity |\n",
    "| --------------------- | ------------- | -------- |\n",
    "| 2000                  | 1000          | 2        |\n",
    "\n",
    "Here,\n",
    "`Total Purchase Amount` = `Product Price × Quantity`\n",
    "\n",
    "So, if that relationship always holds true,\n",
    "then `Total Purchase Amount` is **derived from** other columns —\n",
    "it’s **redundant** from a raw data perspective.\n",
    "You may keep it for convenience, but it’s **not new information**.\n",
    "\n",
    "---\n",
    "\n",
    "### 🕵️‍♂️ Why Analysts Remove Redundant Columns\n",
    "\n",
    "Because:\n",
    "\n",
    "1. ✅ It **simplifies analysis** (less confusion, faster computation)\n",
    "2. ✅ Avoids **double-counting** or incorrect insights\n",
    "3. ✅ Keeps your model or dashboard **clean and meaningful**\n",
    "\n",
    "---\n",
    "\n",
    "### 🧠 Pro Tip (McKinsey Style Thought Process)\n",
    "\n",
    "Whenever you find two similar columns, ask:\n",
    "\n",
    "> “Does this column add *new information* that others don’t?”\n",
    "\n",
    "If **No**, → It’s redundant.\n",
    "If **Yes**, → Keep it.\n",
    "\n",
    "---\n",
    "\n",
    "### ⚙️ In Your Dataset:\n",
    "\n",
    "| Column                  | Redundant? | Reason                                                                                    |\n",
    "| ----------------------- | ---------- | ----------------------------------------------------------------------------------------- |\n",
    "| `Customer Name`         | ✅ Yes      | You already have a unique `Customer ID`.                                                  |\n",
    "| `Age` vs `Customer Age` | ✅ Yes      | Both store the same data (keep only one).                                                 |\n",
    "| `Total Purchase Amount` | ⚠️ Maybe   | If it’s always equal to `Price × Quantity`, it’s derived (but useful for quick analysis). |\n",
    "\n",
    "\n"
   ]
  },
  {
   "cell_type": "code",
   "execution_count": 31,
   "id": "9c3fa12c-7d25-40d4-b29c-95636cf2697c",
   "metadata": {},
   "outputs": [
    {
     "data": {
      "text/html": [
       "<div>\n",
       "<style scoped>\n",
       "    .dataframe tbody tr th:only-of-type {\n",
       "        vertical-align: middle;\n",
       "    }\n",
       "\n",
       "    .dataframe tbody tr th {\n",
       "        vertical-align: top;\n",
       "    }\n",
       "\n",
       "    .dataframe thead th {\n",
       "        text-align: right;\n",
       "    }\n",
       "</style>\n",
       "<table border=\"1\" class=\"dataframe\">\n",
       "  <thead>\n",
       "    <tr style=\"text-align: right;\">\n",
       "      <th></th>\n",
       "      <th>customer_id</th>\n",
       "      <th>purchase_date</th>\n",
       "      <th>product_category</th>\n",
       "      <th>product_price</th>\n",
       "      <th>quantity</th>\n",
       "      <th>total_purchase_amount</th>\n",
       "      <th>payment_method</th>\n",
       "      <th>customer_age</th>\n",
       "      <th>returns</th>\n",
       "      <th>gender</th>\n",
       "      <th>churn</th>\n",
       "      <th>month</th>\n",
       "      <th>year</th>\n",
       "      <th>weekday</th>\n",
       "    </tr>\n",
       "  </thead>\n",
       "  <tbody>\n",
       "    <tr>\n",
       "      <th>0</th>\n",
       "      <td>46251</td>\n",
       "      <td>2020-09-08 09:38:32</td>\n",
       "      <td>Electronics</td>\n",
       "      <td>12</td>\n",
       "      <td>3</td>\n",
       "      <td>740</td>\n",
       "      <td>Credit Card</td>\n",
       "      <td>37</td>\n",
       "      <td>0.0</td>\n",
       "      <td>Male</td>\n",
       "      <td>0</td>\n",
       "      <td>9</td>\n",
       "      <td>2020</td>\n",
       "      <td>Tuesday</td>\n",
       "    </tr>\n",
       "    <tr>\n",
       "      <th>1</th>\n",
       "      <td>46251</td>\n",
       "      <td>2022-03-05 12:56:35</td>\n",
       "      <td>Home</td>\n",
       "      <td>468</td>\n",
       "      <td>4</td>\n",
       "      <td>2739</td>\n",
       "      <td>PayPal</td>\n",
       "      <td>37</td>\n",
       "      <td>0.0</td>\n",
       "      <td>Male</td>\n",
       "      <td>0</td>\n",
       "      <td>3</td>\n",
       "      <td>2022</td>\n",
       "      <td>Saturday</td>\n",
       "    </tr>\n",
       "    <tr>\n",
       "      <th>2</th>\n",
       "      <td>46251</td>\n",
       "      <td>2022-05-23 18:18:01</td>\n",
       "      <td>Home</td>\n",
       "      <td>288</td>\n",
       "      <td>2</td>\n",
       "      <td>3196</td>\n",
       "      <td>PayPal</td>\n",
       "      <td>37</td>\n",
       "      <td>0.0</td>\n",
       "      <td>Male</td>\n",
       "      <td>0</td>\n",
       "      <td>5</td>\n",
       "      <td>2022</td>\n",
       "      <td>Monday</td>\n",
       "    </tr>\n",
       "    <tr>\n",
       "      <th>3</th>\n",
       "      <td>46251</td>\n",
       "      <td>2020-11-12 13:13:29</td>\n",
       "      <td>Clothing</td>\n",
       "      <td>196</td>\n",
       "      <td>1</td>\n",
       "      <td>3509</td>\n",
       "      <td>PayPal</td>\n",
       "      <td>37</td>\n",
       "      <td>0.0</td>\n",
       "      <td>Male</td>\n",
       "      <td>0</td>\n",
       "      <td>11</td>\n",
       "      <td>2020</td>\n",
       "      <td>Thursday</td>\n",
       "    </tr>\n",
       "    <tr>\n",
       "      <th>4</th>\n",
       "      <td>13593</td>\n",
       "      <td>2020-11-27 17:55:11</td>\n",
       "      <td>Home</td>\n",
       "      <td>449</td>\n",
       "      <td>1</td>\n",
       "      <td>3452</td>\n",
       "      <td>Credit Card</td>\n",
       "      <td>49</td>\n",
       "      <td>0.0</td>\n",
       "      <td>Female</td>\n",
       "      <td>1</td>\n",
       "      <td>11</td>\n",
       "      <td>2020</td>\n",
       "      <td>Friday</td>\n",
       "    </tr>\n",
       "  </tbody>\n",
       "</table>\n",
       "</div>"
      ],
      "text/plain": [
       "   customer_id       purchase_date product_category  product_price  quantity  \\\n",
       "0        46251 2020-09-08 09:38:32      Electronics             12         3   \n",
       "1        46251 2022-03-05 12:56:35             Home            468         4   \n",
       "2        46251 2022-05-23 18:18:01             Home            288         2   \n",
       "3        46251 2020-11-12 13:13:29         Clothing            196         1   \n",
       "4        13593 2020-11-27 17:55:11             Home            449         1   \n",
       "\n",
       "   total_purchase_amount payment_method  customer_age returns  gender  churn  \\\n",
       "0                    740    Credit Card            37     0.0    Male      0   \n",
       "1                   2739         PayPal            37     0.0    Male      0   \n",
       "2                   3196         PayPal            37     0.0    Male      0   \n",
       "3                   3509         PayPal            37     0.0    Male      0   \n",
       "4                   3452    Credit Card            49     0.0  Female      1   \n",
       "\n",
       "   month  year   weekday  \n",
       "0      9  2020   Tuesday  \n",
       "1      3  2022  Saturday  \n",
       "2      5  2022    Monday  \n",
       "3     11  2020  Thursday  \n",
       "4     11  2020    Friday  "
      ]
     },
     "execution_count": 31,
     "metadata": {},
     "output_type": "execute_result"
    }
   ],
   "source": [
    "df.head()"
   ]
  },
  {
   "cell_type": "code",
   "execution_count": null,
   "id": "6cc655be-21d4-458f-9a26-19d0ba733d23",
   "metadata": {},
   "outputs": [],
   "source": []
  },
  {
   "cell_type": "code",
   "execution_count": 32,
   "id": "25d33a96-8b17-4041-9601-0bec04f32631",
   "metadata": {},
   "outputs": [
    {
     "name": "stdout",
     "output_type": "stream",
     "text": [
      "<class 'pandas.core.frame.DataFrame'>\n",
      "RangeIndex: 250000 entries, 0 to 249999\n",
      "Data columns (total 14 columns):\n",
      " #   Column                 Non-Null Count   Dtype         \n",
      "---  ------                 --------------   -----         \n",
      " 0   customer_id            250000 non-null  int64         \n",
      " 1   purchase_date          250000 non-null  datetime64[ns]\n",
      " 2   product_category       250000 non-null  object        \n",
      " 3   product_price          250000 non-null  int64         \n",
      " 4   quantity               250000 non-null  int64         \n",
      " 5   total_purchase_amount  250000 non-null  int64         \n",
      " 6   payment_method         250000 non-null  object        \n",
      " 7   customer_age           250000 non-null  int64         \n",
      " 8   returns                250000 non-null  object        \n",
      " 9   gender                 250000 non-null  object        \n",
      " 10  churn                  250000 non-null  int64         \n",
      " 11  month                  250000 non-null  int32         \n",
      " 12  year                   250000 non-null  int32         \n",
      " 13  weekday                250000 non-null  object        \n",
      "dtypes: datetime64[ns](1), int32(2), int64(6), object(5)\n",
      "memory usage: 24.8+ MB\n"
     ]
    }
   ],
   "source": [
    "df['purchase_date'] = pd.to_datetime(df['purchase_date'])\n",
    "df.info()"
   ]
  },
  {
   "cell_type": "markdown",
   "id": "2766c599-0689-40df-b116-130112513bb8",
   "metadata": {},
   "source": [
    "\n",
    "## 🧠 Step 1: What `df.info()` Really Tells You\n",
    "\n",
    "It gives 4 key diagnostic layers:\n",
    "\n",
    "| Layer                 | What It Means                                                                                      |\n",
    "| --------------------- | -------------------------------------------------------------------------------------------------- |\n",
    "| **1. RangeIndex**     | Total number of rows → dataset size & coverage                                                     |\n",
    "| **2. Columns**        | Variables/features available for analysis                                                          |\n",
    "| **3. Non-null Count** | Data completeness (any missing values?)                                                            |\n",
    "| **4. Dtype**          | Nature of each variable (numeric, categorical, datetime) — which decides what analysis is possible |\n",
    "\n",
    "---\n",
    "\n",
    "## 🧩 Step 2: Read This Like a McKinsey Consultant\n",
    "\n",
    "Let’s interpret your dataset column-by-column — translating **technical info → business understanding → analytical potential** 👇\n",
    "\n",
    "| Column                    | Data Type | Completeness | Business Meaning                                           | Analytical Use                                                                                          |\n",
    "| ------------------------- | --------- | ------------ | ---------------------------------------------------------- | ------------------------------------------------------------------------------------------------------- |\n",
    "| **customer_id**           | int64     | ✅ Complete   | Unique customer identifier                                 | Use for *customer-level segmentation, retention, churn*. Don’t aggregate by this directly — it’s an ID. |\n",
    "| **purchase_date**         | datetime  | ✅ Complete   | When purchase happened                                     | Enables *trend analysis*, *seasonality*, and *lifecycle tracking*.                                      |\n",
    "| **product_category**      | object    | ✅ Complete   | Category of item bought (e.g., electronics, fashion, etc.) | For *category-wise revenue, returns, churn analysis*.                                                   |\n",
    "| **product_price**         | int64     | ✅ Complete   | Price per unit                                             | Used for *pricing analytics, basket size*, and *revenue contribution*.                                  |\n",
    "| **quantity**              | int64     | ✅ Complete   | Number of units purchased                                  | Helps compute *average order size* and *purchase frequency*.                                            |\n",
    "| **total_purchase_amount** | int64     | ✅ Complete   | Total value of purchase                                    | Direct measure of *sales performance*. Primary metric for business insights.                            |\n",
    "| **payment_method**        | object    | ✅ Complete   | Payment channel used (UPI, Credit, COD, etc.)              | For *customer preference* and *conversion optimization* insights.                                       |\n",
    "| **customer_age**          | int64     | ✅ Complete   | Age of customer                                            | Key demographic for *segment targeting* and *customer profiling*.                                       |\n",
    "| **returns**               | object    | ✅ Complete   | Product returned or not                                    | Identifies *pain points or quality issues*. Also used for *customer satisfaction* analysis.             |\n",
    "| **customer_name**         | object    | ✅ Complete   | Actual name                                                | Not analytically useful; redundant (drop later).                                                        |\n",
    "| **age**                   | int64     | ✅ Complete   | Duplicate of `customer_age`                                | Check correlation — drop duplicate later.                                                               |\n",
    "| **gender**                | object    | ✅ Complete   | Male/Female                                                | Essential for *demographic analysis* and *marketing segmentation*.                                      |\n",
    "| **churn**                 | int64     | ✅ Complete   | Customer left (1) or stayed (0)                            | 🎯 Target variable for *churn prediction* and *retention strategies*.                                   |\n",
    "\n",
    "---\n",
    "\n",
    "## 🎯 Step 3: What This Means Strategically (McKinsey View)\n",
    "\n",
    "If this dataset came from a **retail client**, here’s how a McKinsey consultant would summarize it:\n",
    "\n",
    "> **“The dataset represents 250K customer purchase transactions across multiple categories, with demographic, behavioral, and transactional details. It’s clean, complete, and ready for descriptive and predictive analysis. The data allows us to understand customer lifetime value, churn patterns, product profitability, and demographic preferences.”**\n",
    "\n",
    "✅ Data readiness: **Excellent**\n",
    "✅ Analytical potential: **High**\n",
    "✅ Cleaning needed: **Minimal** (just drop redundant columns)\n",
    "\n",
    "---\n",
    "\n",
    "## 💡 Step 4: Segment Data Into Analytical Buckets\n",
    "\n",
    "At McKinsey or Google, analysts group data into **4 pillars** to plan their analysis roadmap:\n",
    "\n",
    "| Analytical Pillar         | Columns                                                       | Purpose                                               |\n",
    "| ------------------------- | ------------------------------------------------------------- | ----------------------------------------------------- |\n",
    "| **Customer Demographics** | customer_id, customer_age, gender, churn                      | Who are our customers? (profiles, retention)          |\n",
    "| **Transaction Details**   | purchase_date, product_price, quantity, total_purchase_amount | What do they buy, how much, and how often?            |\n",
    "| **Product Insights**      | product_category, returns                                     | Which products/categories drive or hurt business?     |\n",
    "| **Behavioral Factors**    | payment_method, churn                                         | How do customers behave (buying channel, churn risk)? |\n",
    "\n",
    "This breakdown gives **clarity** on what kinds of analysis to perform next.\n",
    "\n",
    "---\n",
    "\n",
    "## 🧮 Step 5: Decide Your Analysis Type\n",
    "\n",
    "### A. **Descriptive Analysis (What Happened?)**\n",
    "\n",
    "* Total revenue, total customers, average purchase value\n",
    "* Revenue by product category\n",
    "* Age group and gender spending patterns\n",
    "\n",
    "### B. **Diagnostic Analysis (Why It Happened?)**\n",
    "\n",
    "* Which segment has highest returns or churn?\n",
    "* Are returns linked to specific payment methods or product categories?\n",
    "\n",
    "### C. **Predictive Analysis (What Might Happen?)**\n",
    "\n",
    "* Predict churn using demographics and behavior\n",
    "* Predict high-value customers (Customer Lifetime Value modeling)\n",
    "\n",
    "### D. **Prescriptive Analysis (What Should We Do?)**\n",
    "\n",
    "* Suggest marketing or pricing actions\n",
    "* Optimize payment methods or return policies\n",
    "\n",
    "---\n",
    "\n",
    "## 🧭 Step 6: Your Next Intern Task — Think Like a Consultant Analyst\n",
    "\n",
    "Let’s get hands-on next:\n",
    "\n",
    "1. **Check duplicates**\n",
    "\n",
    "   ```python\n",
    "   df.duplicated().sum()\n",
    "   ```\n",
    "2. **Drop redundant columns**\n",
    "\n",
    "   ```python\n",
    "   df.drop(['customer_name', 'age'], axis=1, inplace=True)\n",
    "   ```\n",
    "3. **Explore value distributions**\n",
    "\n",
    "   ```python\n",
    "   df['product_category'].value_counts()\n",
    "   df['payment_method'].value_counts()\n",
    "   df['returns'].value_counts()\n",
    "   df['churn'].value_counts()\n",
    "   ```\n",
    "4. **Start descriptive stats**\n",
    "\n",
    "   ```python\n",
    "   df.describe()\n",
    "   ```"
   ]
  },
  {
   "cell_type": "code",
   "execution_count": 33,
   "id": "01c9b9d6-a3d1-424a-92f9-fab5a93f3474",
   "metadata": {},
   "outputs": [
    {
     "data": {
      "text/plain": [
       "np.int64(0)"
      ]
     },
     "execution_count": 33,
     "metadata": {},
     "output_type": "execute_result"
    }
   ],
   "source": [
    "# Check the Duplicates values\n",
    "df.duplicated().sum()"
   ]
  },
  {
   "cell_type": "markdown",
   "id": "8d22965f-8892-4386-a4ad-9b1a30a34d40",
   "metadata": {},
   "source": [
    "### Explore value distributions"
   ]
  },
  {
   "cell_type": "code",
   "execution_count": 43,
   "id": "70c7af63-843e-4111-8dc9-1e7648cf51a6",
   "metadata": {},
   "outputs": [
    {
     "data": {
      "text/plain": [
       "churn\n",
       "0    200126\n",
       "1     49874\n",
       "Name: count, dtype: int64"
      ]
     },
     "execution_count": 43,
     "metadata": {},
     "output_type": "execute_result"
    }
   ],
   "source": [
    "df['churn'].value_counts()"
   ]
  },
  {
   "cell_type": "code",
   "execution_count": 45,
   "id": "41d75451-c4d8-4764-9982-0ff0539bba66",
   "metadata": {},
   "outputs": [
    {
     "data": {
      "text/plain": [
       "churn\n",
       "0    80.0504\n",
       "1    19.9496\n",
       "Name: proportion, dtype: float64"
      ]
     },
     "execution_count": 45,
     "metadata": {},
     "output_type": "execute_result"
    }
   ],
   "source": [
    "df['churn'].value_counts(normalize=True) * 100"
   ]
  },
  {
   "cell_type": "code",
   "execution_count": 48,
   "id": "526fbe74-c317-49d5-97bc-bf7beac5eebf",
   "metadata": {},
   "outputs": [
    {
     "data": {
      "image/png": "[encoded data removed]",
      "text/plain": [
       "<Figure size 600x400 with 1 Axes>"
      ]
     },
     "metadata": {},
     "output_type": "display_data"
    }
   ],
   "source": [
    "df['churn'].value_counts().plot(kind='bar', color='grey',figsize=(6,4))\n",
    "plt.title(\"Churn Analysis\")\n",
    "plt.xlabel(\"churn\")\n",
    "plt.ylabel(\"Churn Values\")\n",
    "plt.show()"
   ]
  },
  {
   "cell_type": "code",
   "execution_count": 41,
   "id": "c95d33b3-5ef8-4222-888e-2412328f778d",
   "metadata": {},
   "outputs": [
    {
     "data": {
      "text/plain": [
       "returns\n",
       "0.0        101635\n",
       "1.0        100769\n",
       "Unknown     47596\n",
       "Name: count, dtype: int64"
      ]
     },
     "execution_count": 41,
     "metadata": {},
     "output_type": "execute_result"
    }
   ],
   "source": [
    "df['returns'].value_counts()"
   ]
  },
  {
   "cell_type": "code",
   "execution_count": 42,
   "id": "e0f67ff0-3d84-40ce-9214-445923435896",
   "metadata": {},
   "outputs": [
    {
     "data": {
      "text/plain": [
       "returns\n",
       "0.0        40.6540\n",
       "1.0        40.3076\n",
       "Unknown    19.0384\n",
       "Name: proportion, dtype: float64"
      ]
     },
     "execution_count": 42,
     "metadata": {},
     "output_type": "execute_result"
    }
   ],
   "source": [
    "df['returns'].value_counts(normalize=True) * 100"
   ]
  },
  {
   "cell_type": "code",
   "execution_count": null,
   "id": "19a5ea68-a45c-4dab-8c50-0b625d7b0e08",
   "metadata": {},
   "outputs": [],
   "source": []
  },
  {
   "cell_type": "code",
   "execution_count": 37,
   "id": "e44a4b85-8e3c-4408-bf12-98b63523aeeb",
   "metadata": {},
   "outputs": [
    {
     "data": {
      "text/plain": [
       "payment_method\n",
       "Credit Card    100486\n",
       "PayPal          74837\n",
       "Cash            49894\n",
       "Crypto          24783\n",
       "Name: count, dtype: int64"
      ]
     },
     "execution_count": 37,
     "metadata": {},
     "output_type": "execute_result"
    }
   ],
   "source": [
    "df['payment_method'].value_counts()"
   ]
  },
  {
   "cell_type": "code",
   "execution_count": 38,
   "id": "1cffac80-c127-42c2-a35c-75a37ce60446",
   "metadata": {},
   "outputs": [
    {
     "data": {
      "text/plain": [
       "payment_method\n",
       "Credit Card    40.1944\n",
       "PayPal         29.9348\n",
       "Cash           19.9576\n",
       "Crypto          9.9132\n",
       "Name: proportion, dtype: float64"
      ]
     },
     "execution_count": 38,
     "metadata": {},
     "output_type": "execute_result"
    }
   ],
   "source": [
    "df['payment_method'].value_counts(normalize=True) * 100"
   ]
  },
  {
   "cell_type": "code",
   "execution_count": null,
   "id": "1337ea0f-b33e-453b-96c6-c084b191f7c3",
   "metadata": {},
   "outputs": [],
   "source": [
    "### Observation: over 40% of the Credit card payments users dominates more compared to other payment methods"
   ]
  },
  {
   "cell_type": "code",
   "execution_count": 34,
   "id": "1f95e628-6fc1-4ff5-b0fa-4cae0ae96e47",
   "metadata": {},
   "outputs": [
    {
     "data": {
      "text/plain": [
       "product_category\n",
       "Clothing       75052\n",
       "Books          74912\n",
       "Electronics    50185\n",
       "Home           49851\n",
       "Name: count, dtype: int64"
      ]
     },
     "execution_count": 34,
     "metadata": {},
     "output_type": "execute_result"
    }
   ],
   "source": [
    "# Exploring the value disturbution\n",
    "df['product_category'].value_counts()"
   ]
  },
  {
   "cell_type": "code",
   "execution_count": 39,
   "id": "c67089bd-3a22-4a6f-8f9b-65834cb57a52",
   "metadata": {},
   "outputs": [
    {
     "data": {
      "image/png": "[encoded data removed]",
      "text/plain": [
       "<Figure size 600x400 with 1 Axes>"
      ]
     },
     "metadata": {},
     "output_type": "display_data"
    }
   ],
   "source": [
    "df['payment_method'].value_counts().plot(kind='bar' , color='skyblue',figsize=(6,4))\n",
    "plt.title(\"Payment Method Disturbution\")\n",
    "plt.xlabel(\"Payment\")\n",
    "plt.ylabel(\"Number of Payment Method\")\n",
    "plt.show()"
   ]
  },
  {
   "cell_type": "code",
   "execution_count": 35,
   "id": "46612816-cc42-4240-b0f8-9fe1e2758710",
   "metadata": {},
   "outputs": [
    {
     "data": {
      "text/plain": [
       "product_category\n",
       "Clothing       30.0208\n",
       "Books          29.9648\n",
       "Electronics    20.0740\n",
       "Home           19.9404\n",
       "Name: proportion, dtype: float64"
      ]
     },
     "execution_count": 35,
     "metadata": {},
     "output_type": "execute_result"
    }
   ],
   "source": [
    "# Calculating the share value\n",
    "df['product_category'].value_counts(normalize=True) * 100"
   ]
  },
  {
   "cell_type": "markdown",
   "id": "78f4331c-c8a3-4b96-a2e7-62626cb616b8",
   "metadata": {},
   "source": [
    "🎯 Step 2: Translate Numbers Into Meaning👇\n",
    "\n",
    "Observation: Clothing and Books dominate the transactions, together accounting for ~60% of total purchases.\n",
    "Interpretation: These two categories are the company’s core revenue drivers or customer engagement magnets.\n",
    "Hypothesis: Customers likely buy Clothing and Books more frequently due to affordability, variety, or recurring demand.\n",
    "Next step: Validate if higher volume also means higher revenue or profitability. (Sometimes Electronics have fewer sales but higher value per sale.)"
   ]
  },
  {
   "cell_type": "code",
   "execution_count": 36,
   "id": "cefc9bb4-7563-4416-9a50-f219bdda1559",
   "metadata": {},
   "outputs": [
    {
     "data": {
      "image/png": "[encoded data removed]",
      "text/plain": [
       "<Figure size 600x400 with 1 Axes>"
      ]
     },
     "metadata": {},
     "output_type": "display_data"
    }
   ],
   "source": [
    "# Visualizing storytelling (for Dashboard or Report)\n",
    "import matplotlib.pyplot as plt\n",
    "df['product_category'].value_counts().plot(kind='bar' ,color ='skyblue',figsize=(6,4))\n",
    "plt.title(\"Product Category Disturbution\")\n",
    "plt.xlabel(\"Category\")\n",
    "plt.ylabel(\"Number of Purchase\")\n",
    "plt.show()"
   ]
  },
  {
   "cell_type": "markdown",
   "id": "d73d21af-4a3b-4efc-b004-346d89253eef",
   "metadata": {},
   "source": [
    "\n",
    "\n",
    "## 🧩 Step 1: Read the Raw Output\n",
    "\n",
    "| Product Category | Count  |\n",
    "| ---------------- | ------ |\n",
    "| Clothing         | 75,052 |\n",
    "| Books            | 74,912 |\n",
    "| Electronics      | 50,185 |\n",
    "| Home             | 49,851 |\n",
    "\n",
    "➡️ Total records = 75,052 + 74,912 + 50,185 + 49,851 = **≈ 2,50,000 transactions**\n",
    "\n",
    "---\n",
    "\n",
    "## 🎯 Step 2: Translate Numbers Into Meaning\n",
    "\n",
    "As a **McKinsey analyst**, you never just say “Clothing = 75,052.”\n",
    "You say **what it means for business** 👇\n",
    "\n",
    "> **Observation:** Clothing and Books dominate the transactions, together accounting for ~60% of total purchases.\n",
    "> **Interpretation:** These two categories are the company’s **core revenue drivers** or **customer engagement magnets**.\n",
    "> **Hypothesis:** Customers likely buy Clothing and Books more frequently due to **affordability**, **variety**, or **recurring demand**.\n",
    "> **Next step:** Validate if higher *volume* also means higher *revenue* or *profitability*. (Sometimes Electronics have fewer sales but higher value per sale.)\n",
    "\n",
    "---\n",
    "\n",
    "## 🧮 Step 3: Support with Quick Metrics (Analyst Habit)\n",
    "\n",
    "You can calculate % share:\n",
    "\n",
    "```python\n",
    "df['product_category'].value_counts(normalize=True) * 100\n",
    "```\n",
    "\n",
    "Likely output:\n",
    "\n",
    "| Category    | Share (%) |\n",
    "| ----------- | --------- |\n",
    "| Clothing    | ~30%      |\n",
    "| Books       | ~30%      |\n",
    "| Electronics | ~20%      |\n",
    "| Home        | ~20%      |\n",
    "\n",
    "🧠 **Interpretation:**\n",
    "\n",
    "* Clothing and Books = **High engagement, possibly low margins**\n",
    "* Electronics and Home = **Lower frequency, possibly high value**\n",
    "\n",
    "This is called a **Portfolio Balance Insight** — a consulting-style framing.\n",
    "\n",
    "---\n",
    "\n",
    "## 💡 Step 4: McKinsey-Style Insight Framing (Pyramid Principle)\n",
    "\n",
    "Always structure insights in 3 layers:\n",
    "\n",
    "> **Main Insight (Top of Pyramid):**\n",
    "> Clothing and Books contribute the majority of customer transactions, suggesting they are key engagement categories.\n",
    "\n",
    "> **Supporting Evidence (Middle Layer):**\n",
    "> Together they represent nearly 60% of all orders, while Electronics and Home together form the remaining 40%.\n",
    "\n",
    "> **Recommendation (Bottom Layer):**\n",
    "> Focus marketing and personalization on Clothing and Books for customer retention, while designing premium upselling campaigns for Electronics and Home.\n",
    "\n",
    "---\n",
    "\n",
    "## 📊 Step 5: Visual Storytelling (For Dashboard or Report)\n",
    "\n",
    "Create a bar chart to visualize dominance:\n",
    "\n",
    "```python\n",
    "import matplotlib.pyplot as plt\n",
    "df['product_category'].value_counts().plot(kind='bar', color='skyblue', figsize=(6,4))\n",
    "plt.title(\"Product Category Distribution\")\n",
    "plt.xlabel(\"Category\")\n",
    "plt.ylabel(\"Number of Purchases\")\n",
    "plt.show()\n",
    "```\n",
    "\n",
    "In your report or LinkedIn post, you could write:\n",
    "\n",
    "> 🧠 **Insight #1 — Category Mix:**\n",
    "> Clothing and Books drive 60% of total customer purchases, positioning them as the company’s core engagement segments.\n",
    "> Strategic focus on these categories can strengthen repeat purchase behavior and brand stickiness.\n",
    "\n",
    "---\n",
    "\n",
    "## 🚀 Step 6: Analyst’s Next Moves (What to Explore Next)\n",
    "\n",
    "Now that you know which categories dominate, the next-level McKinsey-style questions are:\n",
    "\n",
    "1. **Revenue Impact:**\n",
    "\n",
    "   > Are Clothing and Books also contributing the most revenue or just more volume?\n",
    "\n",
    "   ```python\n",
    "   df.groupby('product_category')['total_purchase_amount'].sum().sort_values(ascending=False)\n",
    "   ```\n",
    "2. **Profitability:**\n",
    "\n",
    "   > Which category gives the highest average order value (AOV)?\n",
    "3. **Churn or Returns:**\n",
    "\n",
    "   > Are high-return rates concentrated in any specific category?\n",
    "4. **Customer Segments:**\n",
    "\n",
    "   > Which age or gender buys which category the most?\n",
    "\n",
    "\n"
   ]
  },
  {
   "cell_type": "code",
   "execution_count": 49,
   "id": "8f3c14e3-4ec5-4b6c-b895-1228e55ae97f",
   "metadata": {},
   "outputs": [
    {
     "data": {
      "text/html": [
       "<div>\n",
       "<style scoped>\n",
       "    .dataframe tbody tr th:only-of-type {\n",
       "        vertical-align: middle;\n",
       "    }\n",
       "\n",
       "    .dataframe tbody tr th {\n",
       "        vertical-align: top;\n",
       "    }\n",
       "\n",
       "    .dataframe thead th {\n",
       "        text-align: right;\n",
       "    }\n",
       "</style>\n",
       "<table border=\"1\" class=\"dataframe\">\n",
       "  <thead>\n",
       "    <tr style=\"text-align: right;\">\n",
       "      <th></th>\n",
       "      <th>customer_id</th>\n",
       "      <th>purchase_date</th>\n",
       "      <th>product_price</th>\n",
       "      <th>quantity</th>\n",
       "      <th>total_purchase_amount</th>\n",
       "      <th>customer_age</th>\n",
       "      <th>churn</th>\n",
       "      <th>month</th>\n",
       "      <th>year</th>\n",
       "    </tr>\n",
       "  </thead>\n",
       "  <tbody>\n",
       "    <tr>\n",
       "      <th>count</th>\n",
       "      <td>250000.00000</td>\n",
       "      <td>250000</td>\n",
       "      <td>250000.000000</td>\n",
       "      <td>250000.000000</td>\n",
       "      <td>250000.000000</td>\n",
       "      <td>250000.000000</td>\n",
       "      <td>250000.000000</td>\n",
       "      <td>250000.000000</td>\n",
       "      <td>250000.000000</td>\n",
       "    </tr>\n",
       "    <tr>\n",
       "      <th>mean</th>\n",
       "      <td>25004.03624</td>\n",
       "      <td>2021-11-06 23:31:24.372304384</td>\n",
       "      <td>254.659512</td>\n",
       "      <td>2.998896</td>\n",
       "      <td>2725.370732</td>\n",
       "      <td>43.940528</td>\n",
       "      <td>0.199496</td>\n",
       "      <td>6.186388</td>\n",
       "      <td>2021.377992</td>\n",
       "    </tr>\n",
       "    <tr>\n",
       "      <th>min</th>\n",
       "      <td>1.00000</td>\n",
       "      <td>2020-01-01 00:15:00</td>\n",
       "      <td>10.000000</td>\n",
       "      <td>1.000000</td>\n",
       "      <td>100.000000</td>\n",
       "      <td>18.000000</td>\n",
       "      <td>0.000000</td>\n",
       "      <td>1.000000</td>\n",
       "      <td>2020.000000</td>\n",
       "    </tr>\n",
       "    <tr>\n",
       "      <th>25%</th>\n",
       "      <td>12497.75000</td>\n",
       "      <td>2020-12-02 19:33:23.249999872</td>\n",
       "      <td>132.000000</td>\n",
       "      <td>2.000000</td>\n",
       "      <td>1477.000000</td>\n",
       "      <td>31.000000</td>\n",
       "      <td>0.000000</td>\n",
       "      <td>3.000000</td>\n",
       "      <td>2020.000000</td>\n",
       "    </tr>\n",
       "    <tr>\n",
       "      <th>50%</th>\n",
       "      <td>25018.00000</td>\n",
       "      <td>2021-11-06 13:10:59</td>\n",
       "      <td>255.000000</td>\n",
       "      <td>3.000000</td>\n",
       "      <td>2724.000000</td>\n",
       "      <td>44.000000</td>\n",
       "      <td>0.000000</td>\n",
       "      <td>6.000000</td>\n",
       "      <td>2021.000000</td>\n",
       "    </tr>\n",
       "    <tr>\n",
       "      <th>75%</th>\n",
       "      <td>37506.00000</td>\n",
       "      <td>2022-10-11 03:42:32.750000128</td>\n",
       "      <td>377.000000</td>\n",
       "      <td>4.000000</td>\n",
       "      <td>3974.000000</td>\n",
       "      <td>57.000000</td>\n",
       "      <td>0.000000</td>\n",
       "      <td>9.000000</td>\n",
       "      <td>2022.000000</td>\n",
       "    </tr>\n",
       "    <tr>\n",
       "      <th>max</th>\n",
       "      <td>50000.00000</td>\n",
       "      <td>2023-09-15 12:24:08</td>\n",
       "      <td>500.000000</td>\n",
       "      <td>5.000000</td>\n",
       "      <td>5350.000000</td>\n",
       "      <td>70.000000</td>\n",
       "      <td>1.000000</td>\n",
       "      <td>12.000000</td>\n",
       "      <td>2023.000000</td>\n",
       "    </tr>\n",
       "    <tr>\n",
       "      <th>std</th>\n",
       "      <td>14428.27959</td>\n",
       "      <td>NaN</td>\n",
       "      <td>141.568577</td>\n",
       "      <td>1.414694</td>\n",
       "      <td>1442.933565</td>\n",
       "      <td>15.350246</td>\n",
       "      <td>0.399622</td>\n",
       "      <td>3.353738</td>\n",
       "      <td>1.077485</td>\n",
       "    </tr>\n",
       "  </tbody>\n",
       "</table>\n",
       "</div>"
      ],
      "text/plain": [
       "        customer_id                  purchase_date  product_price  \\\n",
       "count  250000.00000                         250000  250000.000000   \n",
       "mean    25004.03624  2021-11-06 23:31:24.372304384     254.659512   \n",
       "min         1.00000            2020-01-01 00:15:00      10.000000   \n",
       "25%     12497.75000  2020-12-02 19:33:23.249999872     132.000000   \n",
       "50%     25018.00000            2021-11-06 13:10:59     255.000000   \n",
       "75%     37506.00000  2022-10-11 03:42:32.750000128     377.000000   \n",
       "max     50000.00000            2023-09-15 12:24:08     500.000000   \n",
       "std     14428.27959                            NaN     141.568577   \n",
       "\n",
       "            quantity  total_purchase_amount   customer_age          churn  \\\n",
       "count  250000.000000          250000.000000  250000.000000  250000.000000   \n",
       "mean        2.998896            2725.370732      43.940528       0.199496   \n",
       "min         1.000000             100.000000      18.000000       0.000000   \n",
       "25%         2.000000            1477.000000      31.000000       0.000000   \n",
       "50%         3.000000            2724.000000      44.000000       0.000000   \n",
       "75%         4.000000            3974.000000      57.000000       0.000000   \n",
       "max         5.000000            5350.000000      70.000000       1.000000   \n",
       "std         1.414694            1442.933565      15.350246       0.399622   \n",
       "\n",
       "               month           year  \n",
       "count  250000.000000  250000.000000  \n",
       "mean        6.186388    2021.377992  \n",
       "min         1.000000    2020.000000  \n",
       "25%         3.000000    2020.000000  \n",
       "50%         6.000000    2021.000000  \n",
       "75%         9.000000    2022.000000  \n",
       "max        12.000000    2023.000000  \n",
       "std         3.353738       1.077485  "
      ]
     },
     "execution_count": 49,
     "metadata": {},
     "output_type": "execute_result"
    }
   ],
   "source": [
    "# Start descriptive Analysis\n",
    "df.describe()"
   ]
  },
  {
   "cell_type": "markdown",
   "id": "43bab39a-3550-45a8-93d5-59514821102f",
   "metadata": {},
   "source": [
    "# EDA"
   ]
  },
  {
   "cell_type": "markdown",
   "id": "d1df09bd-89bd-4969-b6bd-83979d274517",
   "metadata": {},
   "source": [
    "### Pillar 1: Customer Demographics\n",
    "Goal: Understand who your customers are and identify segments that matter.\n",
    "\n",
    "\n"
   ]
  },
  {
   "cell_type": "code",
   "execution_count": 71,
   "id": "d8f14c07-6394-4110-b51d-8e09d7ac5a04",
   "metadata": {},
   "outputs": [
    {
     "name": "stdout",
     "output_type": "stream",
     "text": [
      "customer_age\n",
      "70    14146553\n",
      "64    14013477\n",
      "58    13927143\n",
      "51    13869252\n",
      "68    13533099\n",
      "Name: total_purchase_amount, dtype: int64\n",
      "gender\n",
      "Female    342462421\n",
      "Male      338880262\n",
      "Name: total_purchase_amount, dtype: int64\n"
     ]
    },
    {
     "data": {
      "image/png": "[encoded data removed]",
      "text/plain": [
       "<Figure size 1000x400 with 1 Axes>"
      ]
     },
     "metadata": {},
     "output_type": "display_data"
    },
    {
     "data": {
      "image/png": "[encoded data removed]",
      "text/plain": [
       "<Figure size 600x400 with 1 Axes>"
      ]
     },
     "metadata": {},
     "output_type": "display_data"
    }
   ],
   "source": [
    "# Age group revenue\n",
    "age_revenue = df.groupby('customer_age')['total_purchase_amount'].sum().sort_values(ascending=False).head(5)\n",
    "print(age_revenue)\n",
    "\n",
    "# Gender revenue\n",
    "gender_revenue = df.groupby('gender')['total_purchase_amount'].sum().sort_values(ascending=False)\n",
    "print(gender_revenue)\n",
    "\n",
    "# Visualization\n",
    "plt.figure(figsize=(10,4))\n",
    "sns.barplot(x=age_revenue.index, y=age_revenue.values)\n",
    "plt.title(\"Revenue by Age\")\n",
    "plt.show()\n",
    "\n",
    "plt.figure(figsize=(6,4))\n",
    "sns.barplot(x=gender_revenue.index, y=gender_revenue.values)\n",
    "plt.title(\"Revenue by Gender\")\n",
    "plt.show()\n"
   ]
  },
  {
   "cell_type": "markdown",
   "id": "a97916aa-fc69-4afd-9c1b-2104b74dc92a",
   "metadata": {},
   "source": [
    "## Both male and female genders as similar contribution in revenue."
   ]
  },
  {
   "cell_type": "code",
   "execution_count": 83,
   "id": "0ad6d102-1e39-4956-bd2b-23ff2b657c88",
   "metadata": {},
   "outputs": [],
   "source": [
    "# Step 3: Age Group & Gender Spending Patterns\n",
    "\n",
    "# If you don’t have age groups, create them:\n",
    "\n",
    "bins = [0, 18, 25, 35, 45, 55, 65, 100]\n",
    "labels = ['<18','18-25','26-35','36-45','46-55','56-65','65+']\n",
    "df['age_group'] = pd.cut(df['customer_age'], bins=bins, labels=labels)\n"
   ]
  },
  {
   "cell_type": "code",
   "execution_count": 85,
   "id": "43e85cea-b8bb-4b6f-9f2e-d0b275523ccf",
   "metadata": {},
   "outputs": [
    {
     "name": "stdout",
     "output_type": "stream",
     "text": [
      "gender       Female      Male\n",
      "age_group                    \n",
      "<18         6542493   6554355\n",
      "18-25      43633708  43674049\n",
      "26-35      63394842  61174055\n",
      "36-45      63753912  64158480\n",
      "46-55      64652048  64455432\n",
      "56-65      66837632  65037097\n",
      "65+        33647786  33826794\n"
     ]
    },
    {
     "name": "stderr",
     "output_type": "stream",
     "text": [
      "C:\\Users\\Jayasurya R N\\AppData\\Local\\Temp\\ipykernel_12244\\4164532787.py:3: FutureWarning: The default of observed=False is deprecated and will be changed to True in a future version of pandas. Pass observed=False to retain current behavior or observed=True to adopt the future default and silence this warning.\n",
      "  age_gender_revenue = df.groupby(['age_group', 'gender'])['total_purchase_amount'].sum().unstack()\n"
     ]
    }
   ],
   "source": [
    "## Revenue by Age Group and Gender:\n",
    "\n",
    "age_gender_revenue = df.groupby(['age_group', 'gender'])['total_purchase_amount'].sum().unstack()\n",
    "print(age_gender_revenue)\n"
   ]
  },
  {
   "cell_type": "markdown",
   "id": "fffb7485-4fbe-4994-84de-d3c285e7dbac",
   "metadata": {},
   "source": [
    "### 26 - 65 age-group generated the more revenue by age group."
   ]
  },
  {
   "cell_type": "code",
   "execution_count": 73,
   "id": "74d41ee5-d033-41f9-868b-20a982c915bc",
   "metadata": {},
   "outputs": [
    {
     "name": "stdout",
     "output_type": "stream",
     "text": [
      "product_category\n",
      "Books          204939601\n",
      "Clothing       204532405\n",
      "Electronics    136599467\n",
      "Home           135271210\n",
      "Name: total_purchase_amount, dtype: int64\n"
     ]
    },
    {
     "data": {
      "image/png": "[encoded data removed]",
      "text/plain": [
       "<Figure size 1000x400 with 1 Axes>"
      ]
     },
     "metadata": {},
     "output_type": "display_data"
    }
   ],
   "source": [
    "##2️⃣ Product Analysis (Revenue & Returns by Category)\n",
    "\n",
    "##Goal: Identify top-performing product categories and high return categories.\n",
    "\n",
    "# Revenue by category\n",
    "category_revenue = df.groupby('product_category')['total_purchase_amount'].sum().sort_values(ascending=False)\n",
    "print(category_revenue)\n",
    "\n",
    "\n",
    "# Visualization\n",
    "plt.figure(figsize=(10,4))\n",
    "sns.barplot(x=category_revenue.index, y=category_revenue.values)\n",
    "plt.title(\"Revenue by Product Category\")\n",
    "plt.show()\n"
   ]
  },
  {
   "cell_type": "markdown",
   "id": "eed159e0-7464-42ed-a61d-0698b7e8e0fa",
   "metadata": {},
   "source": [
    "### Books and clothing categories generated the 70% Revenue, whereas other categories generated the 30% of revenue."
   ]
  },
  {
   "cell_type": "code",
   "execution_count": 76,
   "id": "33113d34-3c6a-4026-8fbb-b4c2abc4073b",
   "metadata": {},
   "outputs": [
    {
     "name": "stdout",
     "output_type": "stream",
     "text": [
      "payment_method\n",
      "Credit Card    50301\n",
      "PayPal         37414\n",
      "Cash           24882\n",
      "Crypto         12366\n",
      "Name: count, dtype: int64\n"
     ]
    },
    {
     "data": {
      "image/png": "[encoded data removed]",
      "text/plain": [
       "<Figure size 600x400 with 1 Axes>"
      ]
     },
     "metadata": {},
     "output_type": "display_data"
    }
   ],
   "source": [
    "# 3️⃣ Payment Behavior Analysis\n",
    "\n",
    "# Goal: Identify preferred payment method of loyal customers.\n",
    "\n",
    "# Define loyal customers (example: purchases > median)\n",
    "median_purchase = df['total_purchase_amount'].median()\n",
    "loyal_customers = df[df['total_purchase_amount'] > median_purchase]\n",
    "\n",
    "# Payment method preference\n",
    "payment_pref = loyal_customers['payment_method'].value_counts()\n",
    "print(payment_pref)\n",
    "\n",
    "# Visualization\n",
    "plt.figure(figsize=(6,4))\n",
    "sns.barplot(x=payment_pref.index, y=payment_pref.values)\n",
    "plt.title(\"Payment Preference of Loyal Customers\")\n",
    "plt.show()\n"
   ]
  },
  {
   "cell_type": "markdown",
   "id": "ea824753-ebf5-462c-9c8a-ba45eeadebfc",
   "metadata": {},
   "source": [
    "### Insights: Our loyal customers more likely will use credit card we can partnerships with credit cards platforms"
   ]
  },
  {
   "cell_type": "markdown",
   "id": "fd7e0222-f83d-47bf-ba4b-1906877a51c4",
   "metadata": {},
   "source": [
    "### 4️⃣ Churn Analysis"
   ]
  },
  {
   "cell_type": "code",
   "execution_count": 81,
   "id": "12786e77-8405-4765-9455-8865b43abddc",
   "metadata": {},
   "outputs": [
    {
     "data": {
      "text/plain": [
       "customer_age\n",
       "18    1131\n",
       "41    1108\n",
       "46    1065\n",
       "21    1059\n",
       "22    1054\n",
       "49    1048\n",
       "58    1046\n",
       "29    1044\n",
       "61    1031\n",
       "60    1028\n",
       "Name: churn, dtype: int64"
      ]
     },
     "execution_count": 81,
     "metadata": {},
     "output_type": "execute_result"
    }
   ],
   "source": [
    "# 4️⃣ Churn Analysis\n",
    "\n",
    "# Goal: Find who churns the most.\n",
    "\n",
    "# If your dataset has individual customers with ages and churn flags:\n",
    "df.groupby('customer_age')['churn'].sum().sort_values(ascending=False).head(10)\n",
    "\n"
   ]
  },
  {
   "cell_type": "markdown",
   "id": "94d4d805-23cf-41c3-82fe-f2705ab58bef",
   "metadata": {},
   "source": [
    "### Age group: 18-60 is highest churn rate, we can create the loyalty program dicounts, or engagement emails."
   ]
  },
  {
   "cell_type": "code",
   "execution_count": 86,
   "id": "3ecb2d0a-e3c5-4584-8da1-0b04b1813dbe",
   "metadata": {},
   "outputs": [
    {
     "name": "stdout",
     "output_type": "stream",
     "text": [
      "customer_id\n",
      "36437    55339\n",
      "39817    51718\n",
      "26977    48497\n",
      "5844     46541\n",
      "3576     46518\n",
      "13802    46464\n",
      "809      45738\n",
      "47087    45700\n",
      "14400    45334\n",
      "20305    45044\n",
      "Name: total_purchase_amount, dtype: int64\n"
     ]
    }
   ],
   "source": [
    "# Identity who spends the most, usefull for retention strategies\n",
    "top_customers = df.groupby('customer_id')['total_purchase_amount'].sum().sort_values(ascending=False).head(10)\n",
    "print(top_customers)\n"
   ]
  },
  {
   "cell_type": "markdown",
   "id": "77839e19-3b0a-4224-8558-d492749c9a7e",
   "metadata": {},
   "source": [
    "## Business Insights"
   ]
  },
  {
   "cell_type": "markdown",
   "id": "7556daa4-9463-4e7e-ac7b-e79c7412da59",
   "metadata": {},
   "source": [
    "### 1) 26 - 65 age-group generated the more revenue by age group.\n",
    "### 2) Books and clothing categories generated the 70% Revenue, whereas other categories generated the 30% of revenue.\n",
    "### 3) Insights: Our loyal customers more likely will use credit card we can partnerships with credit cards platforms\n",
    "### 4) Age group: 18-60 is highest churn rate, we can create the loyalty program dicounts, or engagement emails."
   ]
  },
  {
   "cell_type": "code",
   "execution_count": null,
   "id": "31b493e6-058e-45ce-a2f8-f05720bdd6cf",
   "metadata": {},
   "outputs": [],
   "source": []
  }
 ],
 "metadata": {
  "kernelspec": {
   "display_name": "Python 3 (ipykernel)",
   "language": "python",
   "name": "python3"
  },
  "language_info": {
   "codemirror_mode": {
    "name": "ipython",
    "version": 3
   },
   "file_extension": ".py",
   "mimetype": "text/x-python",
   "name": "python",
   "nbconvert_exporter": "python",
   "pygments_lexer": "ipython3",
   "version": "3.12.4"
  }
 },
 "nbformat": 4,
 "nbformat_minor": 5
}
